{
 "cells": [
  {
   "cell_type": "code",
   "execution_count": 3,
   "id": "7c2bbd96-c2e2-4bda-aed3-2b7bc734fa02",
   "metadata": {},
   "outputs": [
    {
     "name": "stdin",
     "output_type": "stream",
     "text": [
      "enter the value of a: 1\n",
      "enter the value of b: 2\n"
     ]
    },
    {
     "name": "stdout",
     "output_type": "stream",
     "text": [
      "after swapping:\n",
      "a: 2\n",
      "b: 1\n"
     ]
    }
   ],
   "source": [
    "a=int(input(\"enter the value of a:\"))\n",
    "b=int(input(\"enter the value of b:\"))\n",
    "a=a^b\n",
    "b=a^b\n",
    "a=a^b\n",
    "print(\"after swapping:\")\n",
    "print(\"a:\",a)\n",
    "print(\"b:\",b)"
   ]
  },
  {
   "cell_type": "code",
   "execution_count": 11,
   "id": "d8df1b34-9dcf-42c7-bc01-f5441c479a03",
   "metadata": {},
   "outputs": [
    {
     "name": "stdout",
     "output_type": "stream",
     "text": [
      "['banana', 'apple', 'grape']\n",
      "apple\n",
      "['banana', 'apple', 'berry']\n",
      "berry\n"
     ]
    }
   ],
   "source": [
    "fruits=['banana','apple','grape']\n",
    "print(fruits)\n",
    "print(fruits[1])\n",
    "fruits[2]='berry'\n",
    "print(fruits)\n",
    "fruits[-1]\n",
    "print(fruits[-1])"
   ]
  },
  {
   "cell_type": "code",
   "execution_count": 23,
   "id": "1806e0d0-f17d-4e2b-895f-2994d0f7d275",
   "metadata": {},
   "outputs": [
    {
     "name": "stdout",
     "output_type": "stream",
     "text": [
      "10\n",
      "[3, 4, 5]\n",
      "[0, 1, 2]\n",
      "[0, 2, 4, 6, 8]\n",
      "[9, 8, 7, 6, 5, 4, 3, 2, 1, 0]\n",
      "False\n"
     ]
    }
   ],
   "source": [
    "nums=[0,1,2,3,4,5,6,7,8,9]\n",
    "print(len(nums))\n",
    "print(nums[3:6])\n",
    "print(nums[:3])\n",
    "print(nums[::2])\n",
    "print(nums[::-1])\n",
    "print(11 in nums)"
   ]
  },
  {
   "cell_type": "code",
   "execution_count": 25,
   "id": "9d79be5a-60b8-49e0-a786-cb723e54db46",
   "metadata": {},
   "outputs": [
    {
     "name": "stdout",
     "output_type": "stream",
     "text": [
      "['apple', 'cherry', 'mango']\n",
      "['mango', 'cherry', 'apple']\n"
     ]
    }
   ],
   "source": [
    "fruits=['apple','mango','cherry']\n",
    "fruits.sort()\n",
    "print(fruits)\n",
    "fruits.reverse()\n",
    "print(fruits)"
   ]
  },
  {
   "cell_type": "code",
   "execution_count": 31,
   "id": "49170b04-cbd1-4248-b852-4a47c1e6998a",
   "metadata": {},
   "outputs": [
    {
     "name": "stdout",
     "output_type": "stream",
     "text": [
      "[3, 4]\n",
      "5\n",
      "4\n"
     ]
    }
   ],
   "source": [
    "nestnum=[[1,2],[3,4],[5,6]]\n",
    "print(nestnum[1])\n",
    "print(nestnum[2][0])\n",
    "print(nestnum[1][1])         "
   ]
  },
  {
   "cell_type": "code",
   "execution_count": null,
   "id": "02412dcf-f037-48a5-a567-a62c77fd457d",
   "metadata": {},
   "outputs": [],
   "source": []
  }
 ],
 "metadata": {
  "kernelspec": {
   "display_name": "Python 3 (ipykernel)",
   "language": "python",
   "name": "python3"
  },
  "language_info": {
   "codemirror_mode": {
    "name": "ipython",
    "version": 3
   },
   "file_extension": ".py",
   "mimetype": "text/x-python",
   "name": "python",
   "nbconvert_exporter": "python",
   "pygments_lexer": "ipython3",
   "version": "3.12.7"
  }
 },
 "nbformat": 4,
 "nbformat_minor": 5
}
